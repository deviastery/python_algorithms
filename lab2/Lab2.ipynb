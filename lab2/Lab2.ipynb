{
 "cells": [
  {
   "cell_type": "markdown",
   "id": "fifteen-sailing",
   "metadata": {},
   "source": [
    "# Лабораторная работа №2\n",
    "## Выполнил студент группы Тимшина Виктория Андреевна БФИ2202"
   ]
  },
  {
   "cell_type": "markdown",
   "id": "arctic-stocks",
   "metadata": {},
   "source": [
    "Реализовать следующие структуры данных:\n",
    "  \n",
    "● <b> Стек (stack): </b>  \n",
    "Операции для стека: \n",
    "<i> инициализация, проверка на пустоту, добавление нового элемента в начало, извлечение элемента из начала;  </i>  \n",
    "  \n",
    "● <b> Дек (двусторонняя очередь, deque):  </b>  \n",
    "Операции для дека: \n",
    "<i> инициализация, проверка на пустоту, добавление нового элемента в начало, добавление нового элемента в конец, извлечение элемента из начала, извлечение элемента из конца. </i>  \n",
    "  \n",
    "<i> Разработать программу обработки данных, содержащихся в заранее подготовленном txt-файле, в соответствии с заданиями, применив указанную в задании структуру данных. Результат работы программы вывести на экран и сохранить в отдельном txt-файле. </i>"
   ]
  },
  {
   "cell_type": "markdown",
   "id": "5d7edb08",
   "metadata": {
    "scrolled": true
   },
   "source": [
    "### Задание №1\n",
    "Отсортировать строки файла, содержащие названия книг, в алфавитном порядке с использованием двух деков."
   ]
  },
  {
   "cell_type": "code",
   "execution_count": 9,
   "id": "17702ade",
   "metadata": {},
   "outputs": [],
   "source": [
    "from collections import deque\n",
    "\n",
    "class Deque:\n",
    "    def __init__(self):\n",
    "        self.items = []\n",
    "\n",
    "    def is_empty(self):\n",
    "        return self.items == []\n",
    "\n",
    "    def append(self, item):\n",
    "        self.items.append(item)\n",
    "\n",
    "    def append_left(self, item):\n",
    "        self.items.insert(0, item)\n",
    "\n",
    "    def pop(self):\n",
    "        return self.items.pop()\n",
    "\n",
    "    def pop_left(self):\n",
    "        return self.items.pop(0)\n",
    "\n",
    "file = open(\"files/books.txt\", \"r\", encoding=\"utf-8\")\n",
    "books = file.readlines()\n",
    "file.close()\n",
    "\n",
    "def dequesSort(arr):\n",
    "\n",
    "    resultDq = deque()\n",
    "    tempDq = deque()\n",
    "\n",
    "    resultDq.append(arr[0])\n",
    "\n",
    "    for i in range(1, len(arr)):\n",
    "\n",
    "        if (arr[i] >= resultDq[-1]): \n",
    "            resultDq.append(arr[i])\n",
    "        else : \n",
    "            while ((len(resultDq) > 0) and (arr[i] < resultDq[-1])):\n",
    "                tempDq.append(resultDq.pop())\n",
    "            resultDq.append(arr[i])\n",
    "            tempDq.reverse()\n",
    "            resultDq.extend(tempDq)\n",
    "            tempDq.clear()\n",
    "        \n",
    "    return list(resultDq)\n",
    "\n",
    "file = open(\"files/sorted_books.txt\", \"w\")\n",
    "file.writelines(dequesSort(books))\n",
    "file.close()"
   ]
  },
  {
   "cell_type": "markdown",
   "id": "49fbd2a0",
   "metadata": {},
   "source": [
    "### Задание №2\n",
    "Дек содержит последовательность символов для шифровки сообщений. Дан текстовый файл, содержащий зашифрованное сообщение. Пользуясь деком, расшифровать текст. \n",
    "Известно, что при шифровке каждый символ сообщения заменялся следующим за ним в деке по часовой стрелке через один."
   ]
  },
  {
   "cell_type": "code",
   "execution_count": 13,
   "id": "81cab7a8",
   "metadata": {},
   "outputs": [
    {
     "name": "stdout",
     "output_type": "stream",
     "text": [
      "hjjk ujlpqph\n",
      "good morning\n"
     ]
    }
   ],
   "source": [
    "from collections import deque\n",
    "\n",
    "class Deque:\n",
    "    def __init__(self):\n",
    "        self.items = []\n",
    "\n",
    "    def is_empty(self):\n",
    "        return self.items == []\n",
    "\n",
    "    def append(self, item):\n",
    "        self.items.append(item)\n",
    "\n",
    "    def append_left(self, item):\n",
    "        self.items.insert(0, item)\n",
    "\n",
    "    def pop(self):\n",
    "        return self.items.pop()\n",
    "\n",
    "    def pop_left(self):\n",
    "        return self.items.pop(0)\n",
    "\n",
    "file = open(\"files/cipher.txt\", \"r\", encoding=\"utf-8\")\n",
    "cipher = file.read()\n",
    "file.close()\n",
    "\n",
    "print(cipher)\n",
    "\n",
    "dq = deque('gohjdmkurnlpitq')\n",
    "\n",
    "def decodeLetter(cipherLetter):\n",
    "\n",
    "    for _ in range(len(dq)):\n",
    "        x = dq.pop()\n",
    "        if (x == cipherLetter) :\n",
    "            dq.appendleft(x)\n",
    "            dq.appendleft(dq.pop())\n",
    "\n",
    "            return dq[-1]\n",
    "        \n",
    "        dq.appendleft(x)\n",
    "        \n",
    "\n",
    "def decodeFile(cipher):\n",
    "\n",
    "    decodeCipher = ''\n",
    "\n",
    "    for letter in cipher:\n",
    "        if letter == ' ': \n",
    "            decodeCipher += ' '\n",
    "        else:\n",
    "            decodeCipher += decodeLetter(letter)\n",
    "    \n",
    "    return decodeCipher\n",
    "\n",
    "print(decodeFile(cipher))"
   ]
  },
  {
   "cell_type": "markdown",
   "id": "c0894f47",
   "metadata": {},
   "source": [
    "### Задание №3\n",
    "Даны три стержня и n дисков различного размера. Диски можно надевать на стержни, образуя из них башни. Перенести n дисков со стержня А на стержень С, сохранив их первоначальный порядок. При переносе дисков необходимо соблюдать следующие правила:\n",
    "- на каждом шаге со стержня на стержень переносить только один диск;\n",
    "- диск нельзя помещать на диск меньшего размера;\n",
    "- для промежуточного хранения можно использовать стержень В.\n",
    "Реализовать алгоритм, используя три стека вместо стержней А, В, С. Информация о дисках хранится в исходном файле."
   ]
  },
  {
   "cell_type": "code",
   "execution_count": 2,
   "id": "9e91a9d4",
   "metadata": {},
   "outputs": [
    {
     "name": "stdout",
     "output_type": "stream",
     "text": [
      "Before:\n",
      "[8, 6, 5, 4, 3, 2, 1]\n",
      "[]\n",
      "[]\n",
      "\n",
      "After:\n",
      "[]\n",
      "[]\n",
      "[8, 6, 5, 4, 3, 2, 1]\n"
     ]
    }
   ],
   "source": [
    "def hanoiStacks(n, _from, _to, _tmp):\n",
    "    if n == 1:\n",
    "        _to.append(_from.pop())\n",
    "    else:\n",
    "        hanoiStacks(n - 1, _from, _tmp, _to)\n",
    "        _to.append(_from.pop())\n",
    "        hanoiStacks(n - 1, _tmp, _to, _from)\n",
    "\n",
    "stackA = [8, 6, 5, 4, 3, 2, 1]\n",
    "stackB = []\n",
    "stackC = []\n",
    "\n",
    "print('Before:', stackA, stackB, stackC, sep='\\n', end='\\n\\n')\n",
    "\n",
    "hanoiStacks(len(stackA), stackA, stackC, stackB)\n",
    "\n",
    "print('After:', stackA, stackB, stackC, sep='\\n')"
   ]
  },
  {
   "cell_type": "markdown",
   "id": "e5b0be17",
   "metadata": {},
   "source": [
    "### Задание №4\n",
    "Дан текстовый файл с программой на алгоритмическом языке. За один просмотр файла проверить баланс круглых скобок в тексте, используя стек."
   ]
  },
  {
   "cell_type": "code",
   "execution_count": 4,
   "id": "5b1df60a",
   "metadata": {},
   "outputs": [
    {
     "name": "stdout",
     "output_type": "stream",
     "text": [
      "Success\n"
     ]
    }
   ],
   "source": [
    "file = open(\"files/brackets.txt\", \"r\", encoding=\"utf-8\")\n",
    "brackets = file.read()\n",
    "file.close()\n",
    "\n",
    "class Stack:\n",
    "    def __init__(self):\n",
    "        self.items = []\n",
    "\n",
    "    def is_empty(self):\n",
    "        return len(self.items) == 0\n",
    "\n",
    "    def push(self, item):\n",
    "        self.items.append(item)\n",
    "\n",
    "    def pop(self):\n",
    "        if not self.is_empty():\n",
    "            return self.items.pop()\n",
    "        else:\n",
    "            return \"Стек пустой\"\n",
    "\n",
    "    def peek(self):\n",
    "        if not self.is_empty():\n",
    "            return self.items[-1]\n",
    "        else:\n",
    "            return \"Стек пустой\"\n",
    "\n",
    "    def size(self):\n",
    "        return len(self.items)\n",
    "\n",
    "def checkBrackets(str):\n",
    "\n",
    "    stack = Stack()\n",
    "\n",
    "    for item in str:\n",
    "        if (item == '(') :\n",
    "            stack.push(item)\n",
    "        elif (item == ')') and not(stack.is_empty()):\n",
    "            stack.pop()\n",
    "        elif (item == ')') and (stack.is_empty()):\n",
    "            return 'Error'\n",
    "    \n",
    "    return 'Success' if stack.size() == 0 else 'Error'\n",
    "\n",
    "print(checkBrackets(brackets))"
   ]
  },
  {
   "cell_type": "markdown",
   "id": "c44cdd6b",
   "metadata": {},
   "source": [
    "### Задание №5\n",
    "Дан текстовый файл с программой на алгоритмическом языке. За один просмотр файла проверить баланс квадратных скобок в тексте, используя дек."
   ]
  },
  {
   "cell_type": "code",
   "execution_count": 5,
   "id": "36b8f400",
   "metadata": {},
   "outputs": [
    {
     "name": "stdout",
     "output_type": "stream",
     "text": [
      "Success\n"
     ]
    }
   ],
   "source": [
    "from collections import deque\n",
    "\n",
    "class Deque:\n",
    "    def __init__(self):\n",
    "        self.items = []\n",
    "\n",
    "    def is_empty(self):\n",
    "        return self.items == []\n",
    "\n",
    "    def append(self, item):\n",
    "        self.items.append(item)\n",
    "\n",
    "    def append_left(self, item):\n",
    "        self.items.insert(0, item)\n",
    "\n",
    "    def pop(self):\n",
    "        return self.items.pop()\n",
    "\n",
    "    def pop_left(self):\n",
    "        return self.items.pop(0)\n",
    "\n",
    "file = open(\"files/brackets_deque.txt\", \"r\", encoding=\"utf-8\")\n",
    "brackets = file.read()\n",
    "file.close()\n",
    "\n",
    "def checkBrackets(str):\n",
    "\n",
    "    dq = deque()\n",
    "\n",
    "    for item in str:\n",
    "        if (item == '[') :\n",
    "            dq.append(item)\n",
    "        elif (item == ']') and (len(dq) > 0):\n",
    "            dq.pop()\n",
    "        elif (item == ']') and (len(dq) == 0):\n",
    "            return 'Error'\n",
    "    \n",
    "    return 'Success' if len(dq) == 0 else 'Error'\n",
    "\n",
    "print(checkBrackets(brackets))"
   ]
  },
  {
   "cell_type": "markdown",
   "id": "59d13dc7",
   "metadata": {},
   "source": [
    "### Задание №6\n",
    "Дан файл из символов. Используя стек, за один просмотр файла напечатать сначала все цифры, затем все буквы, и, наконец, все остальные символы, сохраняя исходный порядок в каждой группе символов."
   ]
  },
  {
   "cell_type": "code",
   "execution_count": 6,
   "id": "297e36c2",
   "metadata": {},
   "outputs": [
    {
     "name": "stdout",
     "output_type": "stream",
     "text": [
      "6667677533322323223okbbcscsbcshuefhuweheuwfhihruhhwexhbbijijjijifjeijf-=-=-=-=-=    ;\n"
     ]
    }
   ],
   "source": [
    "file = open(\"files/chars.txt\", \"r\", encoding=\"utf-8\")\n",
    "chars = file.read()\n",
    "file.close()\n",
    "\n",
    "class Stack:\n",
    "    def __init__(self):\n",
    "        self.items = []\n",
    "\n",
    "    def is_empty(self):\n",
    "        return len(self.items) == 0\n",
    "\n",
    "    def push(self, item):\n",
    "        self.items.append(item)\n",
    "\n",
    "    def pop(self):\n",
    "        if not self.is_empty():\n",
    "            return self.items.pop()\n",
    "        else:\n",
    "            return \"Стек пустой\"\n",
    "\n",
    "    def peek(self):\n",
    "        if not self.is_empty():\n",
    "            return self.items[-1]\n",
    "        else:\n",
    "            return \"Стек пустой\"\n",
    "\n",
    "    def size(self):\n",
    "        return len(self.items)\n",
    "\n",
    "\n",
    "def sortChars(str):\n",
    "\n",
    "    sortedStr = ''\n",
    "    letterStack = Stack()\n",
    "    numberStack = Stack()\n",
    "    charStack = Stack()\n",
    "\n",
    "    for item in str:\n",
    "        code = ord(item)\n",
    "        if ((code > 64) and (code < 91)) or ((code > 96) and (code < 123)):\n",
    "            letterStack.push(item)\n",
    "        elif (code > 47) and (code < 58):\n",
    "            numberStack.push(item)\n",
    "        else:\n",
    "            charStack.push(item)\n",
    "\n",
    "    while not(numberStack.is_empty()):\n",
    "        sortedStr += numberStack.pop()\n",
    "    while not(letterStack.is_empty()):\n",
    "        sortedStr += letterStack.pop()\n",
    "    while not(charStack.is_empty()):\n",
    "        sortedStr += charStack.pop()\n",
    "    \n",
    "    return sortedStr\n",
    "\n",
    "print(sortChars(chars))"
   ]
  },
  {
   "cell_type": "markdown",
   "id": "973f68bd",
   "metadata": {},
   "source": [
    "### Задание №7\n",
    "Дан файл из целых чисел. Используя дек, за один просмотр файла напечатать сначала все отрицательные числа, затем все положительные числа, сохраняя исходный порядок в каждой группе."
   ]
  },
  {
   "cell_type": "code",
   "execution_count": 16,
   "id": "c56fad66",
   "metadata": {},
   "outputs": [
    {
     "name": "stdout",
     "output_type": "stream",
     "text": [
      "[-24, -21, -6, -34, -67, -243, -34, -4, -3, 3, 423, 42, 42, 3, 342, 342, 42, 6, 787, 10, 4, 32, 324, 24, 890]\n"
     ]
    }
   ],
   "source": [
    "from collections import deque\n",
    "\n",
    "class Deque:\n",
    "    def __init__(self):\n",
    "        self.items = []\n",
    "\n",
    "    def is_empty(self):\n",
    "        return self.items == []\n",
    "\n",
    "    def append(self, item):\n",
    "        self.items.append(item)\n",
    "\n",
    "    def append_left(self, item):\n",
    "        self.items.insert(0, item)\n",
    "\n",
    "    def pop(self):\n",
    "        return self.items.pop()\n",
    "\n",
    "    def pop_left(self):\n",
    "        return self.items.pop(0)\n",
    "\n",
    "numbers = []\n",
    "\n",
    "file = open(\"files/numbers.txt\", \"r\", encoding=\"utf-8\")\n",
    "for line in file:\n",
    "    numbers.append(int(line[:-1]))\n",
    "file.close()\n",
    "\n",
    "def sortedNumbers(numbers):\n",
    "\n",
    "    dq = deque()\n",
    "\n",
    "    firstPosIndex = 0\n",
    "\n",
    "    for num in numbers:\n",
    "        if num >= 0:\n",
    "            dq.append(num)\n",
    "        else:\n",
    "            dq.insert(firstPosIndex, num)\n",
    "            firstPosIndex += 1\n",
    "\n",
    "    return list(dq)\n",
    "\n",
    "print(sortedNumbers(numbers))"
   ]
  },
  {
   "cell_type": "markdown",
   "id": "b9228191",
   "metadata": {},
   "source": [
    "### Задание №8\n",
    "Дан текстовый файл. Используя стек, сформировать новый текстовый файл, содержащий строки исходного файла, записанные в обратном порядке: первая строка становится последней, вторая – предпоследней и т.д."
   ]
  },
  {
   "cell_type": "code",
   "execution_count": 8,
   "id": "981fbdfe",
   "metadata": {},
   "outputs": [],
   "source": [
    "class Stack:\n",
    "    def __init__(self):\n",
    "        self.items = []\n",
    "\n",
    "    def is_empty(self):\n",
    "        return len(self.items) == 0\n",
    "\n",
    "    def push(self, item):\n",
    "        self.items.append(item)\n",
    "\n",
    "    def pop(self):\n",
    "        if not self.is_empty():\n",
    "            return self.items.pop()\n",
    "        else:\n",
    "            return \"Стек пустой\"\n",
    "\n",
    "    def peek(self):\n",
    "        if not self.is_empty():\n",
    "            return self.items[-1]\n",
    "        else:\n",
    "            return \"Стек пустой\"\n",
    "\n",
    "    def size(self):\n",
    "        return len(self.items)\n",
    "\n",
    "file = open(\"files/books.txt\", \"r\", encoding=\"utf-8\")\n",
    "linesStack = Stack()\n",
    "for line in file:\n",
    "    linesStack.push(line)\n",
    "file.close()\n",
    "\n",
    "file = open(\"files/reverse_books.txt\", \"w\")\n",
    "while not(linesStack.is_empty()):\n",
    "    file.writelines(linesStack.pop())\n",
    "file.close()"
   ]
  },
  {
   "cell_type": "markdown",
   "id": "rental-jerusalem",
   "metadata": {},
   "source": [
    "### Вывод\n"
   ]
  },
  {
   "cell_type": "markdown",
   "id": "0c2b8899",
   "metadata": {},
   "source": [
    "В этой лабораторной работе я познакомилась с такими структурами данных, как стек и дек, и научилась решать алгоритмические задачи."
   ]
  }
 ],
 "metadata": {
  "kernelspec": {
   "display_name": "Python 3 (ipykernel)",
   "language": "python",
   "name": "python3"
  },
  "language_info": {
   "codemirror_mode": {
    "name": "ipython",
    "version": 3
   },
   "file_extension": ".py",
   "mimetype": "text/x-python",
   "name": "python",
   "nbconvert_exporter": "python",
   "pygments_lexer": "ipython3",
   "version": "3.11.8"
  }
 },
 "nbformat": 4,
 "nbformat_minor": 5
}
